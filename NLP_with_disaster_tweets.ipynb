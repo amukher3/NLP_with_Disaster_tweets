{
 "cells": [
  {
   "cell_type": "code",
   "execution_count": 153,
   "metadata": {},
   "outputs": [],
   "source": [
    "import pandas as pd\n",
    "df=pd.read_csv('C:/Users/Abhishek Mukherjee/Downloads/train (1).csv')"
   ]
  },
  {
   "cell_type": "code",
   "execution_count": 154,
   "metadata": {},
   "outputs": [
    {
     "data": {
      "text/html": [
       "<div>\n",
       "<style scoped>\n",
       "    .dataframe tbody tr th:only-of-type {\n",
       "        vertical-align: middle;\n",
       "    }\n",
       "\n",
       "    .dataframe tbody tr th {\n",
       "        vertical-align: top;\n",
       "    }\n",
       "\n",
       "    .dataframe thead th {\n",
       "        text-align: right;\n",
       "    }\n",
       "</style>\n",
       "<table border=\"1\" class=\"dataframe\">\n",
       "  <thead>\n",
       "    <tr style=\"text-align: right;\">\n",
       "      <th></th>\n",
       "      <th>id</th>\n",
       "      <th>keyword</th>\n",
       "      <th>location</th>\n",
       "      <th>text</th>\n",
       "      <th>target</th>\n",
       "    </tr>\n",
       "  </thead>\n",
       "  <tbody>\n",
       "    <tr>\n",
       "      <th>0</th>\n",
       "      <td>1</td>\n",
       "      <td>NaN</td>\n",
       "      <td>NaN</td>\n",
       "      <td>Our Deeds are the Reason of this #earthquake M...</td>\n",
       "      <td>1</td>\n",
       "    </tr>\n",
       "    <tr>\n",
       "      <th>1</th>\n",
       "      <td>4</td>\n",
       "      <td>NaN</td>\n",
       "      <td>NaN</td>\n",
       "      <td>Forest fire near La Ronge Sask. Canada</td>\n",
       "      <td>1</td>\n",
       "    </tr>\n",
       "    <tr>\n",
       "      <th>2</th>\n",
       "      <td>5</td>\n",
       "      <td>NaN</td>\n",
       "      <td>NaN</td>\n",
       "      <td>All residents asked to 'shelter in place' are ...</td>\n",
       "      <td>1</td>\n",
       "    </tr>\n",
       "    <tr>\n",
       "      <th>3</th>\n",
       "      <td>6</td>\n",
       "      <td>NaN</td>\n",
       "      <td>NaN</td>\n",
       "      <td>13,000 people receive #wildfires evacuation or...</td>\n",
       "      <td>1</td>\n",
       "    </tr>\n",
       "    <tr>\n",
       "      <th>4</th>\n",
       "      <td>7</td>\n",
       "      <td>NaN</td>\n",
       "      <td>NaN</td>\n",
       "      <td>Just got sent this photo from Ruby #Alaska as ...</td>\n",
       "      <td>1</td>\n",
       "    </tr>\n",
       "  </tbody>\n",
       "</table>\n",
       "</div>"
      ],
      "text/plain": [
       "   id keyword location                                               text  \\\n",
       "0   1     NaN      NaN  Our Deeds are the Reason of this #earthquake M...   \n",
       "1   4     NaN      NaN             Forest fire near La Ronge Sask. Canada   \n",
       "2   5     NaN      NaN  All residents asked to 'shelter in place' are ...   \n",
       "3   6     NaN      NaN  13,000 people receive #wildfires evacuation or...   \n",
       "4   7     NaN      NaN  Just got sent this photo from Ruby #Alaska as ...   \n",
       "\n",
       "   target  \n",
       "0       1  \n",
       "1       1  \n",
       "2       1  \n",
       "3       1  \n",
       "4       1  "
      ]
     },
     "execution_count": 154,
     "metadata": {},
     "output_type": "execute_result"
    }
   ],
   "source": [
    "df.head()"
   ]
  },
  {
   "cell_type": "code",
   "execution_count": 155,
   "metadata": {},
   "outputs": [
    {
     "data": {
      "text/plain": [
       "Index(['id', 'keyword', 'location', 'text', 'target'], dtype='object')"
      ]
     },
     "execution_count": 155,
     "metadata": {},
     "output_type": "execute_result"
    }
   ],
   "source": [
    "df.columns"
   ]
  },
  {
   "cell_type": "code",
   "execution_count": 156,
   "metadata": {},
   "outputs": [
    {
     "data": {
      "text/plain": [
       "2533"
      ]
     },
     "execution_count": 156,
     "metadata": {},
     "output_type": "execute_result"
    }
   ],
   "source": [
    "df['location'].isna().sum()"
   ]
  },
  {
   "cell_type": "code",
   "execution_count": 157,
   "metadata": {},
   "outputs": [
    {
     "data": {
      "text/plain": [
       "7613"
      ]
     },
     "execution_count": 157,
     "metadata": {},
     "output_type": "execute_result"
    }
   ],
   "source": [
    "len(df)"
   ]
  },
  {
   "cell_type": "code",
   "execution_count": 236,
   "metadata": {},
   "outputs": [],
   "source": [
    "\n",
    "temp=[]\n",
    "[temp.append(df['location'][i]) for i in range(len(df['target'])) if df['target'][i]==1]\n",
    "tempLst=[]\n",
    "tempPrime=[]\n"
   ]
  },
  {
   "cell_type": "code",
   "execution_count": 237,
   "metadata": {},
   "outputs": [],
   "source": [
    "def removNone(tempVal):\n",
    "    \n",
    "    if isinstance(tempVal,float):\n",
    "        return ''\n",
    "    if tempVal!='nan' and tempVal!='None':\n",
    "        return tempVal\n",
    "\n",
    "tempLst=list(filter(removNone,temp))"
   ]
  },
  {
   "cell_type": "code",
   "execution_count": 238,
   "metadata": {},
   "outputs": [],
   "source": [
    "removWords=['Gangsta OC / MV RP; 18+.','Earth: Senseless nonsense ','austin follows*','Primum non nocere','No VOTE',' -99.047821',\n",
    "'|| c h i c a g o ||','CA physically- Boston Strong','No VOTE','unless there','USA....Draenor','Whole Worl',\n",
    "'N','shoujo hel','SWinfo@dot.state.al.us','.','&','-75.488849','westwestwestwestwestwestwest','TonyJ@Centralizedhockey.com','',' ',\n",
    "'+254\\å¡_å¡_å¡_/','I #2MBikers','iTunes','-99.047821 ','|| || ','@Dollarocracy','http://www.amazon.com/dp/B00HR','153.011072'\n",
    "           ,'http://twitch.tv/jcmonkey','EST. 2012 -','304']\n"
   ]
  },
  {
   "cell_type": "code",
   "execution_count": 239,
   "metadata": {},
   "outputs": [],
   "source": [
    "\n",
    "def funcMatPatrn(tempLst):\n",
    "    \n",
    "    matPatrn='\\s*\\?+\\s*|\\s*\\!+\\s*|\\s+([a-zA-Z]+)|\\s+([a-zA-Z]+\\s+[a-zA-Z]+)'\n",
    "\n",
    "    temp=[]\n",
    "    tempTildaPrime=[]\n",
    "    Idx=[]\n",
    "    \n",
    "    import re\n",
    "    \n",
    "    for i in range(len(tempLst)):\n",
    "        temp=[]\n",
    "        temp=re.sub(matPatrn,'',tempLst[i])\n",
    "       # print(tempLst[i])\n",
    "        \n",
    "        #if 'South' in tempLst[i]:\n",
    "        #    print(tempLst[i])\n",
    "            \n",
    "        if temp=='New' or temp=='The' or temp=='United' or temp=='IN' or temp=='In' or temp.upper()=='.c.' or temp.upper()=='SAN' or 'SOUTH' in temp:\n",
    "            tempTildaPrime.append(tempLst[i].upper())\n",
    "            continue\n",
    "        \n",
    "        temp2=re.split(',',temp)\n",
    "        temp3=temp2[len(temp2)-1]\n",
    "        if isinstance(temp3,str):\n",
    "            tempTilda=temp3.replace(' ','')\n",
    "            if len(tempTilda)!=0 and tempTilda not in removWords:\n",
    "                tempTildaPrime.append(temp3.upper())\n",
    "                \n",
    "    return tempTildaPrime   \n",
    "\n"
   ]
  },
  {
   "cell_type": "code",
   "execution_count": 240,
   "metadata": {},
   "outputs": [],
   "source": [
    "def wordCount(tempTildaPrime):\n",
    "    wordCountDict=dict()\n",
    "    for i in tempTildaPrime:\n",
    "        if i not in wordCountDict.keys():\n",
    "            wordCountDict.update({i:1})\n",
    "        else:\n",
    "            wordCountDict[i]+=1\n",
    "    \n",
    "\n",
    "    return wordCountDict"
   ]
  },
  {
   "cell_type": "code",
   "execution_count": 241,
   "metadata": {},
   "outputs": [
    {
     "name": "stdout",
     "output_type": "stream",
     "text": [
      "[('USA', 94), ('NIGERIA', 25), ('INDIA', 23), ('MUMBAI', 20), ('LONDON', 19), ('WORLDWIDE', 19), ('UK', 17), ('CANADA', 17), ('NEW YORK', 16), ('.C.', 12), ('WORLD', 11), ('AUSTRALIA', 9), ('INDONESIA', 9), ('SOMEWHERE', 9), ('EARTH', 9), ('LOS', 9), ('US', 8), ('NORTH', 7), ('TORONTO', 7), ('CALIFORNIA', 7), ('CHICAGO', 7), ('WASHINGTON', 7), ('GLOBAL', 6), ('KARACHI', 6), ('NEW YORK CITY', 6), ('SYDNEY', 6), ('IRELAND', 6), ('LAGOS', 6), ('PLANET', 6), ('SAN FRANCISCO', 6), ('BIRMINGHAM', 5), ('AFRICA', 5), ('ITALY', 5), ('WEST', 5), ('SEATTLE', 5), ('IN', 5), ('MELBOURNE', 5), ('KENYA', 5), ('EVERYWHERE', 5), ('PEDOPHILE', 5), ('SOUTH', 4), ('NYC', 4), ('PUERTO', 4), ('NY', 4), ('SCOTLAND', 4), ('NIGERIA ', 4), ('UNITED KINGDOM', 4), ('SACRAMENTO', 4), ('TEXAS', 4), ('TENNESSEE', 4), ('MAD', 4), ('NAIROBI-KENYA', 4), ('CALGARY', 4), ('MIDWEST', 4), (\"JAKARTA/KUALA/S'PORE\", 4), ('HOUSTON', 4), ('THE NETHERLANDS', 4), ('CHARLOTTE', 3), ('PENNSYLVANIA', 3), ('FINANCIAL', 3), ('CA', 3), ('REPUBLIC', 3), ('AMERICA', 3), ('ATLANTA', 3), ('NJ', 3), ('NEW HAMPSHIRE', 3), ('PHILIPPINES', 3), ('INEXPRESSIBLE ', 3), ('UKRAINE', 3), ('PAKISTAN', 3), ('COLORADO', 3), ('HONG', 3), ('NEWCASTLE', 3), ('MANCHESTER', 3), ('REPUBLICA', 3), ('ARGENTINA', 3), ('SOUTHERN', 3), ('U.S.A', 3), ('FLORIDA', 3), ('MICHIGAN', 3), ('MASSACHUSETTS', 3), ('CAPE', 3), ('HAWAII', 3), ('JAPAN', 3), ('KASHMIR', 3), (' -99.047821', 2), ('HYDERABAD', 2), ('BANGALORE', 2), ('ISRAEL', 2), ('BOSTON', 2), ('HERE', 2), ('JERUSALEM', 2), ('DUBAI', 2), ('.S.A.', 2), ('WASHINGTON.C.', 2), ('MEMPHIS', 2), ('CENTRAL', 2), ('LEICESTER', 2), ('GOTHAM', 2), ('TOKYO', 2), ('THE. ', 2), ('SWMO', 2), ('SINGAPORE', 2), ('IN HELL', 2), ('SELMA2OAKLAND', 2), ('LOUISIANA', 2), ('MA', 2), ('CHERRY', 2), ('JAMAICA', 2), ('NAIROBI', 2), ('EUROPE', 2), ('CALIFORNIA ', 2), ('MARYLAND', 2), ('SAINT', 2), ('LIVERPOOL', 2), ('U.K.', 2), ('GENEVA', 2), ('YOUR', 2), ('BLACKPOOL', 2), ('12.195582811791382', 2), ('HOME', 2), ('ACCRA', 2), ('NAPERVILLE', 2), ('U.S.', 2), ('USA (FORMERLY @USNOAAGOV)', 2), ('I', 2), ('PHILADELPHIA', 2), ('NEW ZEALAND', 2), ('NOT', 2), ('FIVE', 2), ('BREAKING', 2), ('WA', 2), ('ON ', 2), ('IN THE POTTERS HANDS', 2), ('BANDUNG', 2), ('VIETNAM', 2), ('GLOBAL-NOLOCATION', 2), ('-158.022017', 2), ('PORT', 2), ('HEAVEN', 2), ('KANSAS', 2), ('ROAMING', 2), ('SAN FRANCISCO BAY AREA', 2), ('ROCKY', 2), ('BERLIN -', 2), ('BRONX', 2), ('ASIA', 2), ('DUNDEE', 2), ('REDDIT ', 2), ('ANONYMOUS', 2), ('ON', 2), ('AUSTIN', 2), ('UPSTAIRS.', 2), ('NYC :)- #ISLAMOPHOBE', 2), ('STREET', 2), ('ANYWHERE', 2), ('UNITED STATES OF AMERICA', 2), ('SAN 92101', 2), ('PHOENIX', 2), ('A.', 2), ('ABOVE - #YONEWS', 2), ('SANTIAGO', 2), ('BUKITTINGGISUMATERA', 2), ('HELSINKI', 2), ('ENGLAND', 2), ('JUPITER', 2), ('NEW ', 2), ('YOGYA', 2), ('ANAHEIM', 1), (' - 6', 1), (\"YOUR'S\", 1), ('MALDIVES', 1), ('ALBERTA |. |', 1), ('SRI', 1), ('NOT.S', 1), ('THRISSUR', 1), ('HAVENFORD', 1), ('92', 1), ('JACKSON', 1), ('NEW /', 1), ('ARIZONA ', 1), ('AMSTERDAM', 1), ('|| ||', 1), ('L..', 1), ('LEXINGTON', 1), ('PLAYA', 1), ('SOUTH 37', 1), ('SWANING', 1), ('WILD', 1), ('SPAIN', 1), ('CA-', 1), ('SUBCONSCIOUS', 1), ('SINDRIA', 1), ('ALBUQUERQUE', 1), ('BUFFALO', 1), ('STUDIO', 1), ('OUR', 1), ('BAJAUR', 1), ('\\x89ÛÊ\\x89ÛÊ\\x89ÛÊ', 1), ('FL', 1), ('SS', 1), ('BLEAK', 1), ('SF', 1), ('LOCATION', 1), ('FREEPORT.', 1), ('BELLEVUE', 1), ('ONLINE 24/7..', 1), ('FIMAK.S', 1), ('LONDON.', 1), ('CITY', 1), ('MAURITIUS', 1), ('AKRON', 1), ('ARUNDEL ', 1), ('OVER...', 1), ('OES 4TH. &', 1), ('TIMELINE', 1), ('SEARCHING ', 1), ('KARACHI ', 1), ('THE GREAT STATE OF TEXAS', 1), ('HIMALAYAN', 1), ('THEBELOW', 1), ('THE WORLD', 1), ('NASHUA', 1), ('ISOLATED', 1), ('THE 5TH. ', 1), ('THE GREY AREA', 1), ('COBBLESTONE', 1), ('PAIGNTON', 1), ('-75.261624', 1), ('302815', 1), ('316', 1), (\"401'\", 1), ('NETHERLANDS', 1), ('OLD', 1), ('ERBIL', 1), ('STOCKTON', 1), ('SHIPWRECK', 1), ('TORONTO-CITIZEN &', 1), ('SILICON', 1), ('BUSCAME', 1), ('WILTSHIRE', 1), ('PROUD', 1), ('MUM-DEL', 1), ('QUINCY', 1), ('ZIAM ', 1), ('GOHAIL', 1), ('BOMBARDMENT', 1), ('DALLAS', 1), ('INTERMOUNTAIN', 1), ('TAKEN', 1), ('SCOTLAND ', 1), ('SWEDEN', 1), ('PEORIA', 1), ('CORNFIELDS', 1), ('SAN DIEGO CA', 1), ('ISLE', 1), ('GAMEDAY', 1), ('EARTHLING (FOR)', 1), ('TACO', 1), ('AUSTRALIAN', 1), ('PLEASE:', 1), ('WEIT \\x89Û¢', 1), ('SPYING', 1), ('HEAD:', 1), ('MID', 1), ('TRINIDAD', 1), ('BEACON ', 1), ('WOLMERS ', 1), ('LOUGHBOROUGH.', 1), ('SELANGOR', 1), (\"LE '16\", 1), ('HEINZ ', 1), ('THE-CAL', 1), ('50% - 50%', 1), ('EVERYWHERE ', 1), ('SOUTH ', 1), ('VIRGINIA', 1), (\"IN @4SKINCHAN 'S\", 1), ('AZEROTH', 1), ('CENTER', 1), ('WELT', 1), ('AT ', 1), ('LIVIN 610', 1), ('MELROSE', 1), ('LUGO', 1), ('FAKEFAMS', 1), ('#BUMMERVILLE', 1), ('BEHIND', 1), ('PARIS ', 1), ('SUPLEX', 1), ('WHEREVER-THE-FUCK', 1), ('FROM', 1), ('WACO', 1), ('HERTFORDSHIRE ', 1), ('-96.072013', 1), (\"'SOOOOTA\", 1), ('OREGON', 1), ('VANCOUVER', 1), ('I-75', 1), ('IN MY OWN WORLD!!!', 1), ('Ì©XICO.', 1), ('THE PIG STY', 1), ('ISLAMABAD', 1), ('INTERNATIONAL ', 1), (\"VITERBO '18\", 1), ('BUENOS', 1), ('PH', 1), ('ANKARA - -', 1), ('UGANDA', 1), ('PHILIPPINES ', 1), ('VANCOUVER (HQ)', 1), ('CORNWALL', 1), ('BESIDE', 1), ('TAFEKOP-MATSEPE', 1), ('CATSKILLS', 1), ('UNKNOWN', 1), ('LONDON/NEW', 1), ('LAHAR &', 1), ('ATLANTA ', 1), ('ALWAYS', 1), ('JERSEY -.I', 1), ('AFGHANISTAN', 1), (\"SPARE 'OOM\", 1), ('UPTOWN ', 1), ('BUFFALO/DC', 1), ('TO', 1), ('CYPRUS', 1), ('DOES', 1), ('WEYBURN', 1), ('.S.A', 1), ('TENNESSEE/GALLIFREY', 1), ('TOP', 1), ('TOP ', 1), ('772', 1), ('7.439469', 1), ('IN THE SHADOWS', 1), ('CAMPO-MS', 1), ('NBC', 1), ('IRAQ', 1), ('#LIBYA#', 1), ('ARO', 1), ('NYHC', 1), ('11202', 1), (' (RUSSIA)', 1), ('AT', 1), ('.C. ', 1), ('A', 1), ('THE DESERT OF THE REAL', 1), ('LEE', 1), ('/SAN', 1), ('ÅØ\\\\_()_/ÅØ', 1), ('DC', 1), (\"L'ENFANT\", 1), ('TEXAS-USA\\x89Ã¢', 1), ('HEADED', 1), ('MUMBAI (INDIA)', 1), ('COIMBATORE', 1), (' 60607', 1), ('CHICAGOLAND', 1), ('NEW DELHI', 1), ('MACCLESFIELD', 1), ('INFJ ', 1), ('MIDDLE / /', 1), ('NEW ENGLAND', 1), ('NORWAY', 1), ('EVERYDAYNIGERIAN@GMAIL.COM', 1), ('MONTREAL', 1), ('3.18287', 1), ('IN MY STUDIO', 1), ('PATRA-GREECE.', 1), ('MILTON/TALLAHASSEE', 1), ('-WESTFALEN', 1), ('NORTHERN', 1), ('BRISBANE.', 1), ('PG', 1), ('FOLLOWS', 1), ('-SSJS-', 1), ('INDONESIA\\n', 1), ('BANBRIDGE', 1), ('COLUMBUS', 1), ('ST', 1), ('ITUNES -', 1), ('CONTACTSIMPLENEWS@GMAIL.COM', 1), ('BRASIL', 1), ('.VA.', 1), ('DAPPAR (MOHALI)', 1), ('VISIT @', 1), ('ASIA   ', 1), ('2.399227', 1), ('UK  &', 1), ('MANILA', 1), ('(SPAIN)', 1), ('NEW', 1), ('CHAPPAQUA', 1), ('NYC-LA-MIAMI', 1), ('CARIBBEAN', 1), ('FOOTBALL', 1), ('ASHXJONESPR@GMAIL.COM', 1), ('MIAMI', 1), ('PORTUGAL', 1), ('WORLDWIDEWEB', 1), ('HALFRICA', 1), ('U.S.A. -', 1), ('NUMA', 1), ('NEW/.R.', 1), ('QOSQO', 1), ('D(M)V  ', 1), (' - -', 1), ('ELLENSBURG', 1), ('SD |NORWAY|', 1), ('ROOM 234', 1), ('ONE', 1), ('DESDE', 1), ('TÌÁCHIRA -', 1), ('RZL', 1), ('#KEEPTHEFAITH&J', 1), ('DENMARK', 1), ('KUWAIT', 1), ('WE', 1), ('ADELAIDE', 1), ('UNIVERSITY', 1), ('SACAE', 1), ('IM ', 1), ('M$$$$PP', 1), (' 555 11..W.', 1), ('KUWAIT ', 1), ('BAHRAIN', 1), ('@/RP', 1), ('TALLAHASSEE', 1), ('BRISBANE', 1), (\"WRAPPED'S\", 1), ('SEVIER.', 1), ('NASHVILLE', 1), ('AN-SIDED', 1), ('KONOHA', 1), ('////', 1), (\"FSC '19\", 1), ('\\x89Û¢901\\x89Û¢', 1), ('GOLD', 1), ('SEOUL', 1), ('NORTHERN.S.A.', 1), ('YELLOWKNIFE', 1), ('8.942499', 1), ('THE WINDY CITY', 1), ('LFC', 1), ('ZBOYER@WASHINGTONTIMES.COM', 1), ('ELIZABETH', 1), ('GERMANY', 1), ('S.F.', 1), ('PALESTINE', 1), ('JAMMU', 1), ('STAY', 1), ('TELANGANA', 1), ('CHARTER', 1), ('NAKHON', 1), ('WINNIPEG', 1), ('VARANASI', 1), ('THANE', 1), ('ALSO', 1), ('DIMAPUR', 1), ('WOLVERHAMPTON/BRUM/JERSEY', 1), ('#WASHINGTONSTATE #SEATTLE', 1), ('OMAN ', 1), ('JUST', 1), ('BOSTON \\x89Û¢', 1), ('MIDWESTERN', 1), ('BEDFORD ', 1), ('2 2 ', 1), ('BROOKLYN', 1), ('AR', 1), ('ARIZONA', 1), ('THE', 1), ('THE DESERT', 1), ('HERE &', 1), ('DISTRICT 12 -', 1), (\"PLAIN'\", 1), ('SOUTHEAST', 1), ('LOST', 1), ('FREEMAN', 1), ('ARACAJU -', 1), (' /', 1), ('HELL', 1), (\"ST.'S\", 1), ('MANAUS', 1), ('.D. ', 1), ('FAIRY', 1), ('SANTO ', 1), ('LEEDS', 1), ('ROCKETING', 1), ('WADDESDON', 1), ('HUNTSVILLE', 1), ('SOUTH.C.', 1), ('ADVENTIST -', 1), ('PASSAMAQUODDY', 1), ('\\x89Û¢III.XII.MMXI\\x89Û¢', 1), ('ESTADOS', 1), ('NEW JERSEY', 1), ('CAMEROON', 1), ('PDX', 1), ('SHELBY', 1), ('MONTANA ', 1), ('NICOLA', 1), ('DUNCAN', 1), ('BASED -', 1), ('ARKANSAS', 1), ('INSIDE (DC)', 1), ('KICKING', 1), ('VIRGO', 1), ('FACEBOOK.COM/TRADCATKNIGHTS', 1), ('COLORADO  ', 1), ('DICKY', 1), ('VA', 1), ('NIFC', 1), (\"DIL'S\", 1), ('PACIFIC', 1), ('MALAYSIA/JORDAN', 1), ('INTERNATIONAL', 1), ('SILVERMOON', 1), (\"RIYADH ')\", 1), ('MONGOLIA', 1), ('GREECE', 1), ('MALAYSIA', 1), ('ZIMBABWE', 1), ('THE ', 1), ('NEW CHICAGO', 1), ('AUSTRALIA ', 1), ('THANJAVUR', 1), ('HEATHROW', 1), ('CUBA', 1), ('EASTCAROLINA', 1), ('CHINA', 1), ('THE UNIVERSE', 1), ('#BLACKLIVESMATTER', 1), ('NAWF ', 1), ('VINEYARD', 1), ('@POTTERATTHEDISC', 1), ('THE GLOBE', 1), ('KOLKATA', 1), ('IKORODU', 1), ('CENTURION ', 1), ('CARTERVILLE', 1), ('SOMEWHERE.', 1), ('PONTEFRACT', 1), ('EGYPT', 1), ('PROBABLY', 1), ('^ )', 1), ('GEORGIA', 1), ('WINSTON-SALEM', 1), ('SODAK', 1), ('WHY', 1), ('IM.', 1), ('ENGLISH', 1), ('ANTARCTICA', 1), ('NEW SWEDEN', 1), ('CEREAL #17:I4', 1), (\"I'M\", 1), ('REALVILLE', 1), ('BY. ', 1), ('CHATTANOOGA', 1), ('AUCKLAND', 1), (\"'M\", 1), ('FRESNO', 1), ('MINNEAPOLIS -.', 1), ('LAS', 1), ('OWN', 1), ('STAY ;) ', 1), ('COTTONWOOD', 1), ('JERSEY', 1), ('HUSTLETOWN', 1), ('#PARTSUNKNOWN', 1), ('THE INTERNET', 1), ('MALIBU/SANTAFE/WINNING', 1), ('TRING ', 1), ('BIRMINGHAM &', 1), ('PLYMOUTH', 1), ('THE PUMPKIN CARRIAGE OF DREAMS', 1), ('MÌ©XICO.F.', 1), ('GREENWICH', 1), ('GUATEMALA', 1), ('MARBELLA.', 1), ('#GOINGDOWNTHETOILET', 1), ('UNDER', 1), ('SE(HEART)', 1), ('PURFLEET', 1), ('CYMRU', 1), ('EIC', 1), ('ONDO', 1), ('READING', 1), ('ONTARIO', 1), ('AMARILLO', 1), ('CLEAN', 1), ('CORPUS', 1), ('CHILE', 1), ('NJ/NYC', 1), ('EAGLE', 1), ('3.352798039832285', 1), ('AKURE ', 1), ('FINLAND', 1), ('SÌ£O', 1), ('KANO', 1), ('DAMMAM-', 1), ('PRO-AMERICAN-#OCCUPY', 1), ('DALLAS-WORTH', 1), ('THE (SOUTH)', 1), (' (KISSIMMEE)', 1), ('HOUSTON ', 1), ('MISSOURI', 1), ('BUCHAREST', 1), ('I #2MBIKERS', 1), ('EBOLA', 1), ('WARSZAWA', 1), ('ALBERTA ', 1), ('YOBE', 1), ('FEDERAL', 1), ('MUSIC.', 1), ('ONLINE ', 1), ('THAILAND ', 1), ('AD', 1), ('PARADISE', 1), ('WARRI', 1), ('SKYHOLD', 1), ('JORDAN', 1), ('QLD', 1), ('TRINIDAD &', 1), ('JAKARTA', 1), ('JAMMU | |', 1), ('THE.', 1), ('WESTERLAND', 1), ('KUALA', 1), ('SURABAYA', 1), ('#IMINCHINA', 1), ('17TH', 1), ('USA - - -', 1), ('TIPPERARY (LONG) ', 1), ('MALANG', 1), ('HERTFORDSHIRE.', 1), ('SURROUNDED', 1), ('SERVA', 1), ('TRAPPED', 1), ('TRI', 1), ('THE WEIRD PART OF WONDERLAND', 1), ('CASSADAGA', 1), ('MADE ', 1), ('HKXFYMHEX', 1), ('DAKAR', 1), ('ASGARD', 1), ('LIVIN', 1), ('TX', 1), (\"XIUMIN'S\", 1), ('SHEFFIELD/LEEDS', 1), ('5-FEB', 1), ('GAROWE', 1), ('LIVES', 1), ('SOMALIA', 1), ('SAN DIEGO', 1), ('ILL', 1), ('ALGER-NEW-SAN', 1), ('\\x81ÊWAGGERÌ\\x90OMINICANÌ÷', 1), ('EVERY', 1), ('RHYME', 1), ('HAME', 1), ('BRIZZLE', 1), ('FLIPADELPHIA', 1), ('... -.- -.--', 1), ('THEY/THEM ', 1), ('HOLLYWOOD', 1), ('AZ', 1), ('KTX', 1), ('WAKEFIELD', 1), ('THIS.. ', 1), ('PORTHCAWL', 1), ('IN THE SPIRIT WORLD', 1), ('WESTERN', 1), ('MIND', 1), ('PITTSBORO', 1), ('ESPAÌ±A - -', 1), ('NJ/NY/NM/NE/ND', 1), ('STATELESS', 1), ('REALITY', 1), ('THE LAND OF MASS STUPIDITY', 1), ('GIDI', 1), ('EMAIL:@GMAIL.COM', 1), ('HOMS-', 1), ('LAGOS.', 1), ('DID', 1), ('NA', 1), ('SAUDI', 1), ('MOSCOW', 1), ('PARIS', 1), ('ISTANBUL', 1), ('PRINCIPALITY', 1), ('GCC', 1), ('BELGIUM', 1), ('TOKYO &', 1), ('MAINLY', 1), ('GLASGOW', 1), ('BRACKNELL', 1), ('I ', 1), ('AUSTRALIA-SOUTHAFRICA-CAMBODIA', 1), ('STOWMARKET', 1), ('SAO', 1), ('RIYADH', 1), ('BEIT -', 1), ('LOADING...', 1), ('CHENNAI', 1), ('495001', 1), ('PROUDLY', 1), ('CHARLESTON.C.', 1), ('LAGUNA', 1), ('GANDER', 1), ('BAYDESTRIAN', 1), ('GAMERTAG: ', 1), ('EAST', 1), ('73101', 1), ('OKLAHOMA', 1), ('KILLAFORNIA ', 1), (' 40121', 1), ('PROVIDENCE / ', 1), ('TAMILNADU.', 1), ('DUBAI ', 1), ('NYC /', 1), ('SHOUJO ', 1), ('10. 9', 1), ('SÌØÌ¡A', 1), ('876.', 1), ('I.', 1), ('YA', 1), ('KLEENEX', 1), ('BUT', 1), ('SAVAGE', 1), ('WHOLE ', 1), ('OYO', 1), ('NGAPAIN', 1), ('PHUKET', 1), ('UNITES', 1), ('REPÌ¼BLICA', 1), ('IAMDIGITALENT.COM', 1), ('THE PEACH STATE', 1), ('DHAKA', 1), ('CONNECTICUT', 1), (\"YUUKO-SAN'S\", 1), ('103.742992', 1), ('OSHAWA/TORONTO', 1), ('....DRAENOR', 1), ('BARBADOS', 1), ('AMSTERDAM &', 1), ('3RD', 1), ('(Å¡Å¡)', 1), ('RIGHT', 1), ('HOST #MINDMOVERSPODCAST', 1), ('THE D', 1), ('CA(NADA) ', 1), ('T-VILLE', 1), ('MI -', 1), ('JAYANKONDACHOLAPURAM.TAMILNADU', 1), ('DENVER.', 1), ('PROUD @BUCKMASONUSA', 1), ('BEIRUT/TORONTO', 1), ('RURAL (FUCK)', 1), ('ST.', 1), ('THAILAND', 1), ('STAMFORD & (&)', 1), ('#KAUMELITE;#FVOR;#SMOFC', 1), ('INTERNET', 1), (\"ATLANTA - '18\", 1), ('TWITTERVILLE', 1), ('EASTERN', 1), ('NAP', 1), ('MADRID', 1), (' 06413', 1), ('GET', 1), ('AMSTERDAM |', 1), ('AROUND', 1), ('LANCASTER', 1), (' 97343', 1), ('AB', 1), ('ARGUS \\\\M/666\\\\M/', 1), ('VENEZUELA', 1), ('FILM 2015', 1), ('FLA', 1), ('SANTO', 1), ('WORLDWIDE -', 1), ('AMERICAS', 1), ('CHARLOTTE ', 1), ('GANGSTA /; 18+.', 1), ('EARTH:', 1), ('*', 1), ('PRIMUM', 1), ('NORWICH', 1), ('KHANNA', 1), ('BANGKOK', 1), ('PUNJAB', 1), ('MAHARASHTRA', 1)]\n"
     ]
    }
   ],
   "source": [
    "tempTildaPrime=funcMatPatrn(tempLst)\n",
    "tempCount=wordCount(tempTildaPrime)\n",
    "temp=tempCount['USA']+tempCount['UNITED STATES']\n",
    "tempCount.update({'USA':temp})\n",
    "tempCount.pop('UNITED STATES')\n",
    "tempDict=sorted(tempCount.items(),key= lambda x:x[1],reverse=True)\n",
    "print(tempDict)"
   ]
  },
  {
   "cell_type": "code",
   "execution_count": 242,
   "metadata": {},
   "outputs": [],
   "source": [
    "tempPrime=list(map(lambda temp:temp[0],tempDict))\n",
    "tempPrime2=list(map(lambda temp:temp[1],tempDict))\n",
    "\n",
    "keys=tempPrime[:10]\n",
    "vals=tempPrime2[:10]"
   ]
  },
  {
   "cell_type": "code",
   "execution_count": 243,
   "metadata": {},
   "outputs": [
    {
     "data": {
      "image/png": "[encoded data removed]",
      "text/plain": [
       "<Figure size 432x288 with 1 Axes>"
      ]
     },
     "metadata": {
      "needs_background": "light"
     },
     "output_type": "display_data"
    }
   ],
   "source": [
    "#For the 'Real' category\n",
    "import matplotlib.pyplot as plt\n",
    "plt.bar(keys,vals)\n",
    "plt.tick_params(axis='x', rotation=70)\n",
    "plt.show()"
   ]
  },
  {
   "cell_type": "code",
   "execution_count": 244,
   "metadata": {},
   "outputs": [],
   "source": [
    "temp=[]\n",
    "[temp.append(df['location'][i]) for i in range(len(df['target'])) if df['target'][i]==0]\n",
    "tempLst=[]\n",
    "tempPrime=[]\n",
    "\n",
    "tempLst=list(filter(removNone,temp))"
   ]
  },
  {
   "cell_type": "code",
   "execution_count": 245,
   "metadata": {},
   "outputs": [
    {
     "name": "stdout",
     "output_type": "stream",
     "text": [
      "[('NEW YORK', 68), ('USA', 62), ('LONDON', 34), ('UK', 23), ('CANADA', 18), ('KENYA', 16), ('FLORIDA', 14), ('WORLDWIDE', 13), ('CALIFORNIA', 13), ('TEXAS', 9), ('SS', 9), ('AUSTRALIA', 9), ('SEATTLE', 9), ('WORLD', 9), ('SAN FRANCISCO', 8), ('CHICAGO', 8), ('NORTH', 8), ('SOMEWHERE', 7), ('LOS', 7), ('NIGERIA', 7), ('MY', 7), ('MANCHESTER', 7), ('TORONTO', 6), ('IRELAND', 6), ('.C.', 6), ('INDIANA', 6), ('INDIA', 6), ('INDONESIA', 6), ('CHINA', 6), ('MUMBAI', 5), ('COLORADO', 5), ('ATLANTA', 5), ('WISCONSIN', 5), ('THE', 5), ('NY', 5), ('A', 5), ('ALL', 5), ('SOMEWHERE ', 5), ('VANCOUVER', 5), ('COVENTRY', 5), ('SOUTHERN', 5), ('SWITZERLAND', 4), ('HAPPILY 2 ', 4), ('NEW YORK CITY', 4), ('EAST', 4), ('BRASIL', 4), ('RIO', 4), ('SCOTLAND', 4), ('ONTARIO', 4), ('SINGAPORE', 4), ('OKLAHOMA', 4), ('GLOBAL', 4), ('CA', 4), ('ON', 4), ('OREGON', 4), ('TENNESSEE', 4), ('KANSAS', 4), ('EDINBURGH', 4), ('NEWCASTLE', 4), ('LAGOS', 4), ('SOME', 4), ('IN ', 4), ('WHERE', 4), ('NEW JERSEY', 4), ('TX', 4), ('BOSTON', 4), ('BARBADOS', 3), ('US', 3), ('THE ', 3), ('PA', 3), ('UNIVERSITY', 3), ('LAS', 3), ('TOKYO', 3), ('#FLIGHTCITY  ', 3), ('PROBABLY', 3), ('NOWHERE..', 3), ('AMERICA', 3), ('DC', 3), ('NEW', 3), ('BUY ', 3), ('EARTH', 3), ('UTAH', 3), ('NC', 3), ('ARIZONA', 3), ('YOUR', 3), ('KAMA | 18 | ', 3), ('SYDNEY', 3), ('HTX', 3), ('MALAYSIA', 3), ('GLASGOW', 3), ('PAIGNTON', 3), ('MIAMI', 3), ('PITTSBURGH', 3), ('GERMANY', 3), ('MASSACHUSETTS', 3), ('BALTIMORE', 3), ('PENNSYLVANIA', 3), ('RIGHT', 3), ('ATLANTA ', 3), ('SWEDEN', 3), ('BRAZIL', 3), ('FAR', 3), ('MARYLAND', 3), ('LOUISIANA', 3), ('DETROIT', 3), ('NARNIA', 3), ('TAYLOR', 3), ('TN', 3), ('IRAQ|AFGHANISTAN| |BAGHDAD', 3), ('IN', 3), ('PRETORIA', 2), ('LIVE', 2), ('INSTAGRAM - @HEYIMGINOG ', 2), ('ENGLAND ', 2), ('SUBCONSCIOUS', 2), ('REPUBLIC', 2), ('WASHINGTON', 2), ('OAKLAND', 2), ('KENT', 2), ('PAKISTAN', 2), ('EARTH ', 2), ('PH', 2), ('ATX', 2), ('LONDON /', 2), ('SCORE @', 2), (' &.', 2), ('PHILIPPINES', 2), ('COLUMBUS', 2), ('302', 2), ('MO.CITY', 2), ('GOTHAM', 2), ('STATE', 2), (\"DIME'S\", 2), ('BUENOS', 2), ('GEORGIA', 2), ('MI', 2), ('CHARLOTTE', 2), ('IN...', 2), ('CAPE', 2), ('MA', 2), ('LEICESTER', 2), ('BRISBANE', 2), ('READING', 2), ('ALABAMA', 2), ('WALES', 2), ('COLOMBIA', 2), ('NORWAY', 2), ('SAN FRANCISCO BAY AREA', 2), ('MICHIGAN', 2), ('ON ', 2), ('TAKING', 2), ('MELBOURNE', 2), ('GENEVA', 2), ('MADE', 2), ('PLANET', 2), ('617-BTOWN-BEATDOWN', 2), ('KOLKATA', 2), ('U.S.A', 2), ('ILLINOIS', 2), ('ROMANIA', 2), ('HONDURAS', 2), ('BACK', 2), ('BOURNEMOUTH', 2), ('AT', 2), ('FL', 2), ('NEW HAMPSHIRE', 2), ('SCANDINAVIA', 2), ('NEAR', 2), ('HERE.', 2), ('ALASKA', 2), ('SAN DIEGO', 2), (' 3-4', 2), ('PHILLY', 2), ('JAMAICA', 2), ('434', 2), ('MEXICO', 2), ('HALIFAX', 2), ('SÌ£O', 2), ('LA', 2), ('DERBY', 2), ('I', 2), ('AM', 2), ('ROME', 2), ('MNL', 2), ('RUSSIA', 2), ('LAND', 2), ('PROUDLY', 2), ('CHESTER', 2), ('HELL', 2), ('107-18 79TH', 2), ('SOMEWHERE &', 2), ('VIRGINIA', 2), ('KOREA', 2), ('MILWAUKEE', 2), ('LOS ', 2), ('#HARLEYCHICK#PJNT#RUNBENRUN', 2), ('SAND', 2), ('GHANA', 2), ('ITALY', 2), ('DREAMZ', 2), ('THE (MV)', 2), ('OHIO', 2), ('LINCOLN', 2), (\"WHEREVER'M\", 2), ('COSTA', 2), ('INCOGNITO', 2), ('140920-21 & 150718-19', 2), ('EST. 2012 -', 1), ('PARANAQUE', 1), ('MILKY', 1), ('ENGLAND.', 1), ('ABUJA', 1), ('HOLLYWOODLAND ', 1), ('INANG', 1), ('TWITTER', 1), ('CLVLND', 1), ('NORF', 1), ('BELGIUM', 1), ('DOPE', 1), ('BAKER', 1), ('MARYSVILLE ', 1), ('Y(OUR) ', 1), ('FASHION.:_', 1), ('LOVELAND', 1), ('VISIT.', 1), ('HIGHER', 1), ('BOKSBURG', 1), ('18+', 1), ('THE CANOPY KINGDOM', 1), ('TRANCY', 1), ('\\x89Û¢ \\x89Û¢', 1), ('ALBANY/NY', 1), ('CA-', 1), ('CONNECTICUT', 1), ('BIG/BOSTON/DENVER', 1), ('THE SHIRE', 1), ('WRIGLEY', 1), ('ENGLAND', 1), ('-HOLLAND', 1), (' 17 ', 1), ('THE-STATE', 1), ('MIDDLE', 1), ('PERTHSHIRE ', 1), ('TWITCH.TV/NATURALEMBLEM26', 1), ('CYPRUS', 1), ('MEXICO^_^', 1), ('CAMPINAS', 1), ('ZERO', 1), ('JERUSALEM', 1), ('HECCFIDMSS@GMAIL.COM', 1), ('[. ]', 1), ('NYC :)- #ISLAMOPHOBE', 1), (' //_CASPER ', 1), ('SELENA | |', 1), ('\\x89Û¢FLG\\x89Û¢', 1), ('ROWYSO ', 1), ('#UNITE  ', 1), ('1/3 ', 1), ('CCH ', 1), ('PESHAWAR', 1), ('#GDJB #ASOT', 1), (\"IN'S\", 1), ('GUARAVITAS', 1), (' 100', 1), ('FREEPORT ', 1), ('UK ', 1), ('USE #TMW #RT', 1), ('CHICAGO (312)', 1), ('BRITISH', 1), ('ACROSS', 1), ('EXTRATERRESTRIAL', 1), ('AMSTERDAM-VIRTUAL ', 1), ('GA', 1), ('DUCKED . . . ', 1), ('DURHAM.C ', 1), ('DELHI', 1), ('SOUTHERN CALIFORNIA DESERT', 1), ('MY 27B80F7E 08170156520', 1), ('THE.G.G /.M.M ', 1), ('BETWEEN ', 1), ('LIMA-PERU', 1), ('SUITLAND', 1), ('KONOHA', 1), ('SWAG', 1), ('ESSEX/BRIGHTON', 1), ('AZ', 1), ('IN THE MIDDLE OF NO WHERE', 1), ('DMVFASHION @. ', 1), ('NICE ', 1), ('MADISONVILLE', 1), ('AEP', 1), ('ALBERTA', 1), ('#EXPELCL*Y', 1), ('#SOUTHAMPTON ENGLAND', 1), ('205478', 1), ('WATERFORD', 1), ('VA', 1), ('NEWATL', 1), ('USA/SO', 1), ('H / & ', 1), ('WHEREVER $$$', 1), ('DARUKA (NEAR)', 1), ('BATON', 1), ('PSN: ', 1), ('SRI.', 1), (\"ME'S\", 1), ('UK &', 1), ('LAVENTILLEMOORINGS ', 1), ('GUELPH', 1), ('WATERFRONT', 1), ('COLORADO/WORLDWIDE', 1), ('LAKEWOOD', 1), ('THE 6IX', 1), ('IDEALLY', 1), (\"CONVERSING'SÌ¬\", 1), (\"'\", 1), ('BUG', 1), ('CANBERRA', 1), ('INTERNATIONAL', 1), ('PUNPUNLÌ¢NDIA', 1), ('Ì£O', 1), ('IVANO-FRANKIVSK', 1), ('SOL 3.', 1), ('65', 1), ('WESTCHESTER', 1), ('SHITY', 1), ('CHRISTCHURCH', 1), (' 10566 ', 1), ('STORYBROOKE ', 1), ('UNDER', 1), ('BRAZIL ', 1), ('AUS', 1), ('L/S/Z/L/T/H/C/H/R/A/S/C', 1), ('UT', 1), ('FLUFFY', 1), (' 2015.', 1), ('-81.403118', 1), ('COSMIC', 1), ('NOWHERE/SMASH', 1), ('KISUMU', 1), ('MAKING', 1), ('LA/OC/VEGAS', 1), ('LONDON/OUTLAW ', 1), ('SC', 1), ('HAVE;', 1), ('ATLSEA ', 1), ('#ENGLEWOOD ', 1), ('NEW YOUR', 1), ('PURPLE\\x89Ã¢', 1), ('CLOUD 9', 1), ('FORMER', 1), ('337SLOPELOUSAS225', 1), (\"#WHEREVERI'MAT\", 1), ('EVERY', 1), ('ARIZONA ', 1), ('EPTX', 1), ('WESTSIDE 7BLOCK', 1), ('SWANING', 1), ('D.C. - -', 1), ('#937#734', 1), ('BUSHKILL', 1), ('ANYWEHERE', 1), ('MENLO...', 1), ('SPEAKING', 1), ('WNY', 1), (\"TRAVELLING'S\", 1), ('KELI', 1), ('CHICAGOROBOTZ', 1), (\"WHS '17\", 1), ('NV', 1), ('[GIA.] | #KARDASHIANEMPIRE', 1), ('IDN', 1), ('TEXAS&M', 1), ('VITÌ_RIA (ES)', 1), ('KURVEZ@GEARHEADCENTRAL.NET', 1), ('TORONTO \\x89Û¢', 1), ('LONG &', 1), ('956', 1), ('627', 1), ('BLOGLAND', 1), ('CHARLOTTETOWN', 1), ('TA', 1), ('LIÌ¬GE', 1), (' 99206', 1), ('[ +/THEM +-T ]', 1), ('SANTIAGO', 1), ('Y/E/L', 1), ('DALLAS', 1), ('MIDWEST', 1), ('QUEEN', 1), ('THE &', 1), ('LONDON/BRISTOL/GUILDFORD', 1), ('CANADIAN', 1), ('SKYPORT', 1), ('INSULA', 1), ('MOSTLY.', 1), ('LIVERPOOL', 1), ('HARTFORD', 1), ('AMERICA | ', 1), (\"LYTHAM'S \", 1), ('YLISSE', 1), ('PORTUGAL', 1), ('@UNTMDOUTDOORS #T.O.R.K ', 1), ('Ì¼', 1), ('LURKING', 1), ('NY.', 1), ('$AD $HAWTY', 1), ('NY ||', 1), ('BESTCOAST', 1), ('BC', 1), ('COLCHESTER ', 1), ('SUPLEX', 1), ('INSIDE.', 1), ('36 & 38', 1), ('SLAPPIN ', 1), (\"DRAW'S\", 1), ('THE NETHERLANDS', 1), ('SWAN', 1), ('LOCATION', 1), ('BRIGHTON', 1), ('JKT48-MUSE-A7X', 1), ('WORLDWIDE.', 1), ('LIVEÌ\\x81S', 1), ('THEY/HER', 1), ('(HE/HIM)', 1), (\"I'M\", 1), ('INSTAGRAM-_BELLX', 1), ('#FOREVERWITHBAP 8 ', 1), ('GOT7SUPPORTPH', 1), ('LIVEÌÁS', 1), (\"GREG'S\", 1), ('VIEJO', 1), ('~', 1), (' /Ì±AQUE', 1), ('PLANETA2O', 1), ('WWW.YOUTUBE.COMMALKAVIUS2', 1), ('THE FOREVER GIRL', 1), ('ESPÌ_RITO', 1), ('ROANOKE', 1), ('UNNAMED', 1), ('106.775995', 1), (\"@PROTECTINGTITAN'S.\", 1), ('BK. ', 1), ('SEE', 1), ('-BRITANNIQUE', 1), ('60TH (SS)', 1), ('BTWN', 1), ('-158.022017', 1), ('DARLINGTON', 1), ('GALATIANS 2:20 ', 1), ('DEFINITELY', 1), (' 62.184971', 1), ('.DOWN', 1), ('WESTON', 1), ('LINDENHURST', 1), ('TOO', 1), ('KINGSWINFORD', 1), ('I 2', 1), ('KANEOHE', 1), ('HOUMA', 1), (\"EASTATLANTA#WESTGEORGIA'18\", 1), ('05/04/2014 18:23', 1), ('SAN FRANSOKYO', 1), ('W. ', 1), ('HONEYMOON', 1), ('11/4/14', 1), (\"WHEREVER'S\", 1), ('#HAMONT', 1), ('ONLINE ', 1), ('GUAYAQUIL', 1), ('BAHSTUN/PORTA', 1), ('SUNNY ', 1), ('NEVERLAND', 1), ('TRINIDAD &', 1), ('CHICAGO -', 1), ('IM ...', 1), ('GARDEN', 1), ('BKI-KUA', 1), ('URÌ£NUS', 1), ('A.A.S', 1), ('TURNER', 1), ('UGANDA', 1), ('253', 1), ('PON', 1), ('BENEDICT', 1), ('IM ', 1), ('RURAL', 1), ('VILNIUS', 1), ('CHESHIRE.. #ALLOVER', 1), ('U.S', 1), ('UNKNOWN', 1), ('AUSTIN |', 1), ('USAOV', 1), ('#LEMONGANG ', 1), ('AYR', 1), ('KILLARNEY', 1), ('SPINNING.', 1), ('HAILING ', 1), ('INSTAGRAM:_', 1), ('2005 |-/', 1), ('ISRAEL', 1), ('URUGUAY / /', 1), ('ATMOSPHERE', 1), ('DUNDALK', 1), ('27.837865', 1), (\"YOU'RE 19   \", 1), ('MILTON ', 1), ('ATLAL', 1), ('PROV', 1), ('THE UK', 1), ('MPLS. ', 1), ('CARRY', 1), ('HOME.', 1), ('SSSA', 1), ('ASUNCIÌ_N-PY /Ì_BINGEN-GER', 1), ('WAKANDA', 1), ('DOES', 1), (\"UGA '15 - \", 1), ('LONDON..', 1), ('CTNYC', 1), ('WWW.TMGCGART.COM', 1), ('MELBOURNE-ISH', 1), ('518', 1), ('EARTH 3', 1), ('RALEIGH (GARNER/CLEVELAND)', 1), ('WALKING', 1), ('FRASCATI', 1), ('UP', 1), ('WELLINGTON', 1), ('BALVANERA', 1), ('0.0', 1), ('EASTBOURNE', 1), ('WEMA', 1), ('FRUIT', 1), ('HOOTERS', 1), ('US-EAST-1A', 1), ('RHODEISLAND', 1), ('ARBAILO', 1), ('BAGALKOTE ', 1), ('SHREWSBURY', 1), ('NJ', 1), ('QUEENS.', 1), ('ATL', 1), ('BEAUTIFUL', 1), ('KILKENNY', 1), ('-ÌÄCOSSE', 1), ('AGGRESSIVE ', 1), ('-95.979189', 1), ('ARTHAS', 1), ('US-PR', 1), ('SAN JOSE', 1), ('-73.990062', 1), (' 20009', 1), ('DISTRICT/', 1), ('#MADEINNORTHUMBERLAND', 1), ('ERITREAN', 1), ('SEC', 1), ('-87.545328', 1), ('THE. ', 1), ('BOULDER', 1), ('TEMPORARY', 1), ('MACCLESFIELD', 1), ('[MARVEL\\x89Û¢DRAGON\\x89Û¢WICDIV]', 1), ('NBO', 1), ('ST..', 1), ('Ì©XICO', 1), ('PREHISTORIC', 1), ('SAN GABRIEL LA UNION', 1), ('ISTANBUL', 1), ('CHILE', 1), ('JOHANNESBURG ', 1), ('JAPAN', 1), ('TRACKSIDE', 1), ('HE/HIM/HER (ASK)', 1), ('THAILAND', 1), ('SEA', 1), ('TODAYSBIGSTOCK.COM', 1), ('Ì©BEC', 1), ('LIVE4HEED', 1), ('QUEENS', 1), ('VALLE', 1), ('NEW YORK NYC', 1), ('MOSCOW', 1), ('BALIKESIR -', 1), ('MALDIVES', 1), ('SOUL/BODY', 1), ('YOOOOOOO', 1), ('JERSEY', 1), ('72.825133', 1), ('DENVER', 1), ('PANAME', 1), ('SP', 1), ('TN/', 1), ('BRONX /-CITY', 1), ('BIKINI', 1), ('BANGALORE.', 1), ('BANGKOK', 1), ('THE MEADOW', 1), ('BRUM/LESTAH ', 1), ('CHESTER ', 1), ('VARIES ', 1), ('DEVON/LONDON ', 1), ('ATLANTA.A.', 1), ('JACKSON', 1), ('PORTOVIEJO-MANABI-ECUADOR', 1), ('CHILLIN', 1), ('EN', 1), ('NEAREST ', 1), ('USA ', 1), ('MOROCCO', 1), ('PEDOPHILE', 1), ('MAGNOLIA', 1), ('PALESTINE ', 1), ('MEEREEN ', 1), ('ICON:3D', 1), ('@NOTORIOUSD12', 1), (\"IT'S \", 1), ('INSIDE..', 1), ('THE HOWLING', 1), ('FRASERBURGH', 1), ('PEMBROKE', 1), ('IG:', 1), ('TAMPA', 1), ('IN THE MANSION', 1), ('94123', 1), ('CT &', 1), ('SOUTH+9', 1), ('YORKSHIRE\\n', 1), ('COASTS &', 1), ('PITTSBURGH ', 1), ('IDAHO', 1), (\"LIZZY'S\", 1), ('\\x89Û¢5\\x89Û¢12\\x89Û¢14\\x89Û¢ | ÅÈ#SAVIOURSQUADÅÇ', 1), ('THE.', 1), ('DUTCH/ENGLISH/GERMAN', 1), ('DESDE', 1), ('ORM', 1), ('BOT', 1), ('#OTRAKANSASCITY', 1), ('NAPERVILLE', 1), ('FORGING', 1), ('MASS', 1), ('14/CIS/ISTJ ', 1), ('MICHIGAN ', 1), (\"WHERE'M\", 1), ('HAMPSHIRE', 1), ('OBLIVION', 1), ('COLUMBUSNORTH', 1), ('PHOENIX', 1), ('DAVAO', 1), ('BUHH', 1), ('REDDIT', 1), ('NAGPUR', 1), ('SURREY &', 1), ('AUCKLAND', 1), ('NEVADA (WISHING)', 1), (' 53143', 1), ('LONDON/SURREY ', 1), ('CLT', 1), ('CYDIA', 1), ('NEW ENGLAND', 1), ('17-FEB', 1), ('LA -', 1), ('ROCHESTER', 1), ('FLYEST ', 1), ('EIU/LASALLE', 1), ('-79.55807', 1), ('THE/FIRST', 1), (' |IG:', 1), ('LONDON / /', 1), ('EMILY | | ', 1), ('KAJANGUITM', 1), ('THEY/THEM', 1), ('WINNIPEG', 1), ('TROST', 1), ('SOUTH.K', 1), ('LRHCTHBAND;FOUR -', 1), ('ANTIGUANYC ', 1), ('WONDERLAND\\x89ÛÓ', 1), ('EAST. ', 1), ('RHODE', 1), ('LOS......', 1), ('JAMDUNG', 1), ('PANAMÌÁ ', 1), ('KOCHI', 1), (';-)', 1), ('QUINCY', 1), ('POCONOS', 1), ('PLAY', 1), ('OFFICIAL', 1), ('TECHFISH ', 1), (\"UNITED'S\", 1), ('JERSEY ', 1), ('PEKANBARUÅ¡BATAMÅ¡MEDAN', 1), ('THE NORTH', 1), ('PLAYING &', 1), ('HUECO', 1), ('NAIROBI', 1), ('RAFAEL', 1), ('GRAND', 1), ('NEW ', 1), ('UTICA', 1), ('NUNYA', 1), ('YEWA', 1), ('CARREGADO', 1), ('STANFORD', 1), ('IN THE MOMENT', 1), ('ALLISTON', 1), ('SAUDI - ', 1), ('NEW.', 1), ('ATHENS -', 1), ('WREX', 1), ('BIG \\x89Û¢ 0802', 1), ('TO', 1), ('  Å_ ', 1), ('ZAC', 1), ('MAKAI', 1), ('FIVE', 1), ('LONG ÅÁ ÅÁ', 1), ('ROADS/TRAILS', 1), ('ABERDEENSHIRE', 1), ('FREEPORT', 1), ('650/559', 1), ('DREAMY', 1), ('HOUSTN', 1), ('@COCKERELSHOES', 1), ('TRAVELLING ', 1), ('JET', 1), ('HOUSTON ||', 1), ('BACON', 1), ('MARS', 1), ('VENTURA', 1), ('LE', 1), ('DELHI ', 1), ('POMFRET/PROVIDENCE', 1), ('AIX-EN-PROVENCE/UTRECHT', 1), ('METRO', 1), (\"DON'T\", 1), ('BELLEVILLE', 1), ('WESTERN', 1), ('TIPS', 1), ('TEXAS ', 1), ('CALGARY/AIRDRIE/REDDEER/AB', 1), ('PARADISE', 1), ('ANTOINE ', 1), ('BETWEEN', 1), ('WATCH -', 1), (' (GRAND)', 1), ('THE BARN', 1), ('SEMEKEEPSCHANGING@SOYEH', 1), (\"SOMEDAY'LL. \", 1), ('HOGSMEADE', 1), ('5/5 /', 1), ('Å_:ÌÑ:', 1), ('10-JUL', 1), ('THE & ', 1), ('HOGWARTS', 1), ('@SYMBOLICJENSEN', 1), ('CONTOOCOOK', 1), ('ILFORD', 1), ('LIVERPOOL ', 1), ('ALBUQUERQUE', 1), ('NEW YORK BROOKLYN', 1), ('RHEINBACH /', 1), ('RIYADH', 1), ('JEDDAH |', 1), ('UNITED HOODS OF THE GLOBE', 1), ('..', 1), ('INNERHALBÌ_CKE', 1), ('EATING', 1), ('CALIFORNIA ', 1), ('RSN:', 1), ('EASTCAROLINA', 1), ('FRANCE', 1), ('BETWEEN & 3-5PM', 1), ('STARLING', 1), ('GLENVIEW ', 1), ('WASHINGTON.C.', 1), ('OK', 1), ('CHICOPEE', 1), ('MD', 1), ('DOGHOUSE', 1), ('SOMEPLACE', 1), ('AVON', 1), ('COME 20', 1), ('EMIRATES', 1), ('SCOTTSDALE.', 1), ('BAY', 1), ('CORPUS - -', 1), ('SPRING', 1), ('BEIJING .CHINA', 1), ('PERU', 1), ('LAHORE', 1), ('-80.827834', 1), ('BRISTOL', 1), ('THE WINDY PLAINS OF DENVER', 1), ('NYC&NJ', 1), ('SWINDON', 1), ('CROYDON', 1), ('MILTON', 1), ('ASIA ', 1), ('CASCADIA', 1), ('ST.LOUIS ', 1), ('DETROIT/WINDSOR', 1), ('THE CIRCLE OF LIFE', 1), ('9', 1), ('JAKARTA', 1), ('VENEZUELA', 1), ('BUFFALO / /', 1), ('HI\\x89Û¢UT\\x89Û¢AS', 1), ('ELCHILICITANIERRAVERSAL ', 1), ('(RP)', 1), (\" 45Å¡ 5'12.53N   14Å¡ 7'24.93E\", 1), ('PHOTO : ', 1), ('APERTURE', 1), ('{DETAILED}', 1), ('FAIRGROUNDS', 1), ('ANONYMOUS', 1), ('NEW SWEDEN', 1), ('EARTH-616', 1), ('WISCO', 1), ('LEAVING', 1), ('HEMEL', 1), ('ANDY 4', 1), ('ECUADOR', 1), ('CIMERAK -', 1), ('BOSTON-LONDON', 1), ('GLOBAL/WORLDWIDE', 1), ('THE WAYSTONE INN', 1), ('BOSTON/MONTREAL ', 1), ('INTERPLANETARYZONE', 1), ('WORLDWIDE-BOSTON', 1), ('THE UNIVERSE', 1), ('LAYING', 1), ('MIRANDA521', 1), ('OLDENBURG //', 1), ('IL', 1), ('KSU 2017', 1), ('STORYBROOKE /', 1), ('NOLATX', 1), (\"NEIL'S  |  32215\", 1), ('THE SHORES OF LAKE KILBY', 1), ('TWO', 1), ('HEARTS &', 1), ('HIGHLANDS&SLANDS', 1), ('NOTTINGHAM', 1), ('CO.', 1), (\"IUPUI '19\", 1), ('POTTERS', 1), ('NOTTS', 1), ('HOME ', 1), ('LIA\\x89Û¢DANI\\x89Û¢LAURA', 1), ('IN (:', 1), ('LEITCHFIELD', 1), ('FUKUSHIMA.PREF', 1), ('JAPON', 1), ('PLUTO', 1), ('ANYWHERE', 1), ('PARIS (FRANCE)', 1), ('WARSAW', 1), ('AZTEC', 1), ('MA:', 1), ('THE MEMESPHERE', 1), ('21 |', 1), ('JUMP', 1), ('DUDETOWN', 1), ('BHUBNESHWAR', 1), ('CEDAR', 1), ('EIC', 1), (\"SATAN'S\", 1), ('VALPARAISO ', 1), ('PROB', 1), ('#FREEGUCCI', 1), ('THE DARK', 1), ('THE WOOD', 1), ('MID', 1), ('LEYLAND', 1), (\"DON'T*N\", 1), ('OVERTON', 1), ('BORN', 1), ('CANADA ', 1), ('FL.', 1), ('828/704(SOUFSIDE)/WHILE', 1), ('MERICA', 1), ('FEDERAL', 1), ('TURKMENISTAN', 1), ('23', 1), ('WWW.FACEBOOK.COM/STUNTFM', 1), ('DALLAS-WORTH', 1), ('MIAMIGAINESVILLE', 1), ('ILLINOIS. ', 1), ('ROYTON', 1), ('THE INTERNETZ', 1), ('MANHATTAN', 1), (\"ELENA'S //\", 1), ('518 ÅÁ', 1), ('THE SHADY HYENATOWN OF FINLAND', 1), ('MARYLAND ', 1), ('EAST.', 1), ('TORRY', 1), ('^ÅÁÅÁ^', 1), ('OXFORD /', 1), ('PARACHUTE', 1), ('|-/', 1), ('PAWNEE', 1), ('VCU', 1), ('POSITIVE 852', 1), ('H+L', 1), ('SOCAL', 1), ('AREA 8 ', 1), ('-74.014213', 1), ('GENEVA.. ', 1), ('VÌ_AÌÁCTEA', 1), ('MONGOLIA', 1), ('#MAYGODHELPUS', 1), ('NORTH/GLOBAL', 1), ('ECSU16', 1), (' 04330', 1), ('STATUTE_', 1), ('ST', 1), ('ESPAÌ±A', 1), ('TARRAGONA', 1), ('TRIPOLI', 1), ('SF', 1), ('BIG', 1), ('THORNTON', 1), ('WANDERLUST', 1), ('U.S.A. 5', 1), ('WATFORD', 1), ('WEST', 1), ('THE MULTIVERSE', 1), ('.K.', 1), ('BIRMINGHAM', 1), ('BELGRADE', 1), ('BOSSLAND', 1), ('IN SPACE', 1), ('DUBLIN', 1), (\"SPARE 'OOM\", 1), ('VIDALIA', 1), ('UPSTATE', 1), ('CHICORAOAKLAND', 1), ('SPAIN - -.', 1), ('| \\x89Û¢  |', 1), ('DEPOK', 1), ('AUSTIN', 1), ('GARRETT', 1), ('FOLLOWURDREAMS(&)', 1), ('SHEFFIELD //', 1), ('BELFAST', 1), ('FUJO ', 1), ('NEW -', 1), ('SNAPCHAT~_BABBY ', 1), ('360', 1), ('#REDSOXNATION', 1), ('YOUTUBE.COM/CHANNEL/UCHWTLC9B4ZJUGH7YDLB55IW', 1), ('CADC', 1), ('ÌÁN', 1), ('IN YOUR HEAD', 1), ('TRACTOR', 1), ('ADVENTURING', 1), ('UNITE.. ', 1), ('SNEAKING', 1), ('LJP/4', 1), ('NIRVANA', 1), ('MENTOR', 1), ('18 \\x89Û¢', 1), ('1D | 5SOS |', 1), ('PA.USA', 1), ('PISSING', 1), (\"'SAN'\", 1), ('SISTERHOOD', 1), ('3000', 1), ('WITH', 1), ('ACCESS/5/4', 1), ('MASSACHUSETTS ', 1), ('RIO |', 1), ('\\x89Û¢OLDERCANDYBLOOM\\x89Û¢', 1), ('JUSTIN', 1), ('[@BLACKPARAVDE]', 1), ('DADDY', 1), (\"NAMJOON'S\", 1), ('HONEYMOON Ì£VE.', 1), ('JUSTIN & ||', 1), ('9/1/13', 1), ('JDB/LJC/AGB/TW/PLL', 1), ('NAP', 1), ('AMSTERDAYUM 120615 062415', 1), ('LESA */HER', 1), ('GRIFFIN :3', 1), ('MARVEL | | |', 1), ('BLACKFALDS.', 1), ('FREDDY', 1), ('BRASÌ_LIA', 1), ('POFFIN', 1), ('#GLADIATOR \\x89Û¢860\\x89Û¢757\\x89Û¢', 1), ('W.I.T.S', 1), ('PLFD..', 1), ('LOST', 1), ('LABYRINTHIA', 1), ('+ ...+', 1), ('THIRD', 1), ('SOMALIA', 1), ('SMASH/KANTO', 1), ('412 5TH.', 1), ('UNKNOWN ', 1), ('TRINIDAD', 1), ('B&B', 1), ('HINTERESTLAND', 1), ('GREENPOINT', 1), ('-78.865828', 1), (' 90630', 1), ('MEMPHIS', 1), ('HAARLEM', 1), ('QUEENSLAND', 1), ('HOMRA.', 1), ('HEY', 1), ('SHARJAH/', 1), ('THE WEB', 1), ('PARIS.', 1), ('TEAM', 1), ('MICHEL.', 1), ('TEXASSS', 1), ('DIAMONDVILLE', 1), ('THE TARDIS', 1), ('HAWAII ', 1), ('HIGH 99', 1), ('828864803', 1), ('GREATER', 1), ('VICTORIAÌ£O ', 1), ('THEY/THEM ', 1), ('MIAMI ', 1), ('CRATO - ', 1), ('BROWARDCOUNTY // ', 1), ('SOUFSIDE', 1), ('WORLDWI$E ', 1), ('3.28.15|7.20.15|7.25.15', 1), ('CIGARKNUB@GMAIL.COM', 1), ('PSA ', 1), ('DEPLOYED', 1), ('TEH', 1), ('MOUNTAINS', 1), (\"MPELA'ZWE \", 1), ('NOR*CAL', 1), ('MACKEM', 1), ('#BOSSNATION', 1), ('NC ||', 1), ('#PHANTRASH', 1), ('DESERT|BCHS|', 1), ('CAMAQUÌ£/PELOTAS', 1), ('AUSTIN/LOS', 1), ('IN A CRAZY GENIUS MIND', 1), ('HATENA', 1), ('DOCKER', 1), ('DMV', 1), ('PHILLY ', 1), ('32', 1), ('ASIA', 1), ('HALTON', 1), ('WARM', 1), ('-81.6078532', 1), ('ROADSIDE', 1), ('DORITO', 1), ('18 | 509 ', 1), ('BON', 1), ('BEACON', 1), ('{GOT | |}', 1), ('NAIROBI ', 1), ('IN YOUR MIND', 1), ('ESSEX', 1), ('OXFORD', 1), ('GLOUCESTER', 1), ('TOLEDO', 1), ('AVA', 1), ('NJ/NY', 1), ('ICON @HASHIREN_3', 1), ('TRAPPED ', 1), ('DEATH', 1), ('AUBURN ', 1), ('POLMONT ', 1), ('BULGARIA', 1), ('PUERTO', 1), ('SHANGHAI', 1), ('UPSTAIRS.', 1), ('NUMENOR', 1), ('EARTH 0', 1), ('JEDDAH_SAUDI.', 1), ('PESHAWAR ', 1), (\"NIALL'S\", 1), ('HYRULE', 1), ('FRONT', 1), ('GOD.FAMILY.MONEY', 1), ('NOWHERE', 1), ('INDILAND ', 1), ('WORDLDWIDE', 1), ('GOD. ', 1), ('COGNITIVE', 1), ('KHARTOUM', 1), ('NEW/NEW', 1), ('#SANDRABLAND', 1), (\"'MERICA\", 1), ('STAGGERING', 1), ('SILICON', 1), ('ORLANDO ', 1), ('MÌ©XICO', 1), ('CALL', 1), ('ORLANDO', 1), ('CENTRAL', 1), ('T | 8.24.14', 1), ('Å_Å_LOS\\x89Ã¢', 1), ('LIKE ', 1), ('.S.', 1), ('LOCAL 4/28/00 - 4/28/15', 1), ('WWW.APRYLPOOLEY.COM', 1), ('THE JEWFNITED STATE', 1), ('GUMPTOWN', 1), ('THE TRISKELION', 1), ('MINNEAPOLIS/ST.', 1), ('KIRKWALL', 1), ('CORK', 1), ('DUBLIN ', 1), ('ELVY', 1), ('TUNBRIDGE', 1), ('LOWESTOFT', 1), ('NORTH / ', 1), ('LONDONSTAN', 1), ('STAGE', 1), ('TAMWORTH', 1), ('ILLUMINATION ', 1), ('BATHTUB ', 1), ('CHASING/JASS', 1), ('DISPLACED', 1), ('WOLVERHAMPTON', 1), ('NORTH ', 1), ('MANILA', 1), ('IG :_TSUNAMI', 1), ('#ODU', 1), ('ONA/', 1), ('COMING', 1), ('BROKE', 1), ('Å¡Å¡MIDWEST \\x89Û¢\\x89Û¢', 1), ('GALAPA /ÌÁNTICO', 1), ('STLNOLA', 1), ('INSTAGRAM:', 1), ('LONG', 1), ('DOWNTOWN', 1), ('EVERGREEN', 1), ('SYDNEY &', 1), ('IG/SC:BJFORDIANI', 1), ('WOOSLEY', 1), ('ATTOCK', 1), ('MILKY ', 1), ('F.', 1), ('PARIS', 1), ('NORTHERN', 1), ('SOMEWHERE...', 1), ('STILL.S.A.N.D.O.S', 1), (\"WE'RE\", 1), ('//RP\\\\ @MORT3MER\\\\\\\\', 1), ('ÅÊ(\\x89Û¢`\\x89Û¢Å«)', 1), ('NEW 2099', 1), ('2', 1), ('JAWA', 1), ('WWW.TWITCH.TV/PKSPARKXX', 1), ('STATESBORO/VIDALIA', 1), ('000', 1), ('REGALO', 1), ('CALIFORNIA | | |', 1), ('N.', 1), ('MULTINATIONAL *****', 1), ('KERNOW', 1), ('FROSTBURG', 1), ('CANTERBURY', 1), (\"THE'S\", 1), ('SHEFF/BANGOR/SALAMANCA/MADRID', 1), ('RICHARDSON', 1), ('NEPA/570', 1), ('PHILA.', 1), ('VAIL', 1), ('CLOUD', 1), ('GEORGIATENNESSEE', 1), (' 07860', 1), ('SHE/HER/YOUR/EMPRESS', 1), ('HOUSTON', 1), ('LYNBROOK', 1), ('(A)', 1), ('NORTH/919', 1), ('LAKE', 1), ('-96.628624', 1), ('SHADY ', 1), ('/MIKA/LEO|18|HE/SHE/THEY', 1), ('NOT /.', 1), ('MOSS', 1), ('1/10', 1), ('ARGENTINA', 1), ('CURRENTLY', 1), ('PRATT-ON-WYE', 1), ('GREENVILLE', 1), ('709', 1), ('SCUMBERNAULD', 1), (\"ROBIN'S \", 1), ('6', 1), ('#NEWCASTLEUPONTYNE #UK', 1), ('LONDON ', 1)]\n"
     ]
    }
   ],
   "source": [
    "tempTildaPrime=funcMatPatrn(tempLst)\n",
    "tempCount=wordCount(tempTildaPrime)\n",
    "temp=tempCount['USA']+tempCount['UNITED STATES']\n",
    "tempCount.update({'USA':temp})\n",
    "tempCount.pop('UNITED STATES')\n",
    "tempCount.pop('EVERYWHERE')\n",
    "temp=tempCount['NEW YORK']+tempCount['NYC']\n",
    "tempCount.update({'NEW YORK':temp})\n",
    "tempCount.pop('NYC')\n",
    "tempCount.pop('SOUTH')\n",
    "temp=tempCount['UNITED KINGDOM']+tempCount['UK']\n",
    "tempCount.update({'UK':temp})\n",
    "tempCount.pop('UNITED KINGDOM')\n",
    "tempDict=sorted(tempCount.items(),key= lambda x:x[1],reverse=True)\n",
    "print(tempDict)"
   ]
  },
  {
   "cell_type": "code",
   "execution_count": 246,
   "metadata": {},
   "outputs": [],
   "source": [
    "tempPrime=list(map(lambda temp:temp[0],tempDict))\n",
    "tempPrime2=list(map(lambda temp:temp[1],tempDict))"
   ]
  },
  {
   "cell_type": "code",
   "execution_count": 247,
   "metadata": {},
   "outputs": [],
   "source": [
    "keys=tempPrime[:10]\n",
    "vals=tempPrime2[:10]"
   ]
  },
  {
   "cell_type": "code",
   "execution_count": 248,
   "metadata": {},
   "outputs": [
    {
     "data": {
      "image/png": "[encoded data removed]",
      "text/plain": [
       "<Figure size 432x288 with 1 Axes>"
      ]
     },
     "metadata": {
      "needs_background": "light"
     },
     "output_type": "display_data"
    }
   ],
   "source": [
    "#For the 'fake' category\n",
    "import matplotlib.pyplot as plt\n",
    "plt.bar(keys,vals)\n",
    "plt.tick_params(axis='x', rotation=70)\n",
    "plt.show()"
   ]
  },
  {
   "cell_type": "code",
   "execution_count": null,
   "metadata": {},
   "outputs": [],
   "source": []
  }
 ],
 "metadata": {
  "kernelspec": {
   "display_name": "Python 3",
   "language": "python",
   "name": "python3"
  },
  "language_info": {
   "codemirror_mode": {
    "name": "ipython",
    "version": 3
   },
   "file_extension": ".py",
   "mimetype": "text/x-python",
   "name": "python",
   "nbconvert_exporter": "python",
   "pygments_lexer": "ipython3",
   "version": "3.7.3"
  }
 },
 "nbformat": 4,
 "nbformat_minor": 2
}
